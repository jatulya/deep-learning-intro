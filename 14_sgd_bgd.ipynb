{
  "nbformat": 4,
  "nbformat_minor": 0,
  "metadata": {
    "colab": {
      "provenance": [],
      "authorship_tag": "ABX9TyMyqEL0HYikOW9w/0MukEjv",
      "include_colab_link": true
    },
    "kernelspec": {
      "name": "python3",
      "display_name": "Python 3"
    },
    "language_info": {
      "name": "python"
    }
  },
  "cells": [
    {
      "cell_type": "markdown",
      "metadata": {
        "id": "view-in-github",
        "colab_type": "text"
      },
      "source": [
        "<a href=\"https://colab.research.google.com/github/jatulya/deep-learning-intro/blob/master/14_sgd_bgd.ipynb\" target=\"_parent\"><img src=\"https://colab.research.google.com/assets/colab-badge.svg\" alt=\"Open In Colab\"/></a>"
      ]
    },
    {
      "cell_type": "markdown",
      "source": [
        "# Implementation of Batch Gradient Descent and Stochaistic Gradient Descent"
      ],
      "metadata": {
        "id": "R8fjG7UemX0x"
      }
    },
    {
      "cell_type": "markdown",
      "source": [
        "1. Import the necessary libraries"
      ],
      "metadata": {
        "id": "QVRxCFQ8nR0j"
      }
    },
    {
      "cell_type": "code",
      "source": [
        "import pandas as pd\n",
        "import numpy as np\n",
        "from matplotlib import pyplot as plt"
      ],
      "metadata": {
        "id": "K5AbrjiGmyYw"
      },
      "execution_count": 21,
      "outputs": []
    },
    {
      "cell_type": "markdown",
      "source": [
        "2. Import the csv file\n",
        "3. Print the first few lines of the csv file to understand the nature of the data"
      ],
      "metadata": {
        "id": "-a_U4bQFnXEn"
      }
    },
    {
      "cell_type": "code",
      "source": [
        "df = pd.read_csv(\"homeprices_banglore.csv\")\n",
        "print(df.head())"
      ],
      "metadata": {
        "colab": {
          "base_uri": "https://localhost:8080/"
        },
        "id": "pXZrNvdgnP1a",
        "outputId": "1b40eb2d-eba1-4b3d-c295-24d97136aa69"
      },
      "execution_count": 3,
      "outputs": [
        {
          "output_type": "stream",
          "name": "stdout",
          "text": [
            "   area  bedrooms   price\n",
            "0  1056         2   39.07\n",
            "1  2600         4  120.00\n",
            "2  1440         3   62.00\n",
            "3  1521         3   75.00\n",
            "4  1200         2   51.00\n"
          ]
        }
      ]
    },
    {
      "cell_type": "markdown",
      "source": [
        "From the data printed, it is clear that none of the values are scaled to 0-1, which is essential for a machine learning model.\n",
        "\n",
        "We are using Min-Max scaler from scikit-learn's preprocessing module. It scales the value as -\n",
        "\n",
        "```\n",
        "X_scaled  = (X - X.min(axis=0)) / (X.max(axis=0) - X.min(axis=0))\n",
        "```\n",
        "\n",
        "4. Import the Min-Max scaler.\n",
        "5. Create two instances of the scaler - sx & sy - to use them seperately on scaling the x-axis(bedroom and area) and y-axis(prices)\n",
        "6. As the parameter while scaling for x_axis, drop the column y_axis.\n",
        "7. Reshape the column for sy\n",
        "\n",
        "⚓  NOTE\n",
        "\n",
        "▶ The reason why we are creating two instances of MinMaxScaaler is because *after fitting and transforming one set, the feature range (min and max values) of that particular dataset would be stored in it*, therefore using the same instance for transforming the next set can create incorrect scaling as the feature range would of the previous one.\n",
        "\n",
        "▶ We are reshaping df[price] because *MinMaxScaler expects a 2D [nsamples, nfeatures]*. So our data column should look like [[price1], [price2], ..[priceN]] instead of [price1, price2..priceN]."
      ],
      "metadata": {
        "id": "7lbBAiJQn8Ql"
      }
    },
    {
      "cell_type": "code",
      "source": [
        "from sklearn.preprocessing import MinMaxScaler\n",
        "sx = MinMaxScaler()\n",
        "sy = MinMaxScaler()\n",
        "\n",
        "x_scaled = sx.fit_transform(df.drop('price', axis='columns'))\n",
        "y_scaled = sy.fit_transform(df['price'].values.reshape(df.shape[0], 1))\n",
        "\n",
        "print(f\"Min of x_axis = {sx.data_min_} \\tMax of x_axis = {sx.data_max_}\")\n",
        "print(f\"Min of y_axis = {sy.data_min_} \\t\\t Max of y_axis = {sy.data_max_}\")\n",
        "print(f\"X-scaled = {x_scaled[:5]}\")\n",
        "print(f\"y-scaled = {y_scaled[:5]}\")\n"
      ],
      "metadata": {
        "colab": {
          "base_uri": "https://localhost:8080/"
        },
        "id": "0Y9qVmx0sDjB",
        "outputId": "63eb1e7e-bb54-491c-ca48-6356fcca2f9f"
      },
      "execution_count": 24,
      "outputs": [
        {
          "output_type": "stream",
          "name": "stdout",
          "text": [
            "Min of x_axis = [800.   1.] \tMax of x_axis = [3700.    5.]\n",
            "Min of y_axis = [32.] \t\t Max of y_axis = [167.]\n",
            "X-scaled = [[0.08827586 0.25      ]\n",
            " [0.62068966 0.75      ]\n",
            " [0.22068966 0.5       ]\n",
            " [0.24862069 0.5       ]\n",
            " [0.13793103 0.25      ]]\n",
            "y-scaled = [[0.05237037]\n",
            " [0.65185185]\n",
            " [0.22222222]\n",
            " [0.31851852]\n",
            " [0.14074074]]\n"
          ]
        }
      ]
    },
    {
      "cell_type": "markdown",
      "source": [
        "8. Reshape y_scaled back to 1-D array."
      ],
      "metadata": {
        "id": "r6FY4rxe8G3B"
      }
    },
    {
      "cell_type": "code",
      "source": [
        "y_scaled.reshape(df.shape[0])"
      ],
      "metadata": {
        "colab": {
          "base_uri": "https://localhost:8080/"
        },
        "id": "8Gjj2jNh8Qzz",
        "outputId": "4ae627da-a687-45eb-d409-79f6a60c9066"
      },
      "execution_count": 7,
      "outputs": [
        {
          "output_type": "execute_result",
          "data": {
            "text/plain": [
              "array([0.05237037, 0.65185185, 0.22222222, 0.31851852, 0.14074074,\n",
              "       0.04444444, 0.76296296, 0.91111111, 0.13333333, 1.        ,\n",
              "       0.37037037, 0.8       , 0.04444444, 0.05925926, 0.51111111,\n",
              "       0.07407407, 0.11851852, 0.20740741, 0.51851852, 0.        ])"
            ]
          },
          "metadata": {},
          "execution_count": 7
        }
      ]
    },
    {
      "cell_type": "markdown",
      "source": [
        "The whole purpose of this linear regression model is to find the weights (coefficients) and bias in the linear eqaution -\n",
        "\n",
        "```\n",
        "price = w1*area + w2*bedrooms + bias\n",
        "```\n",
        "\n",
        "The weights are calculated using gradient descent for each epoch. Different types of gradient descent are -\n",
        "\n",
        "*   Batch gradient descent\n",
        "*   Stochaistic gradient descent\n",
        "*   Mini batch gradient descent\n",
        "\n",
        "9. Build batch gradient descent function.\n",
        "\n"
      ],
      "metadata": {
        "id": "TWqNvYuy8oTw"
      }
    },
    {
      "cell_type": "markdown",
      "source": [
        "# Batch gradient descent\n",
        "\n",
        "Here, the whole training data is iterated and used for forward pass. Their values are predicted, errors are found and the cumulative errors is taken to adjust the weights for next epoch using derivatives.\n",
        "\n",
        "Algorithm - batch_gradient_descent(X, y_true, epochs, learning_rate = 0.01)\n",
        "\n",
        "1. Get the number of features\n",
        "2. Initialize a numpy array of dimension (1, number of features) filled with ones. This is the array for storing the weights.\n",
        "```\n",
        "w = np.ones(shape=(number of features))\n",
        "```\n",
        "3. Set bias, b = 0.\n",
        "4. Store transpose of X in X_transpose.\n",
        "5. Get the total number of samples.\n",
        "6. Initialize two empty list - cost_list, epoch_list.\n",
        "7. Repeat the following for epoch number of times -\n",
        "\n",
        "  * find y-predicted.\n",
        "   ```\n",
        "   y_predicted = np.dot(X, w)\n",
        "   ```\n",
        "  * find the errors\n",
        "   ```\n",
        "   errors = y_true - y_predicted\n",
        "   ```\n",
        "  * find the derivates (no need to find seperate derivatives for both features because w is a numpy array. when calling .dot, the value will be stored separately).\n",
        "  ```\n",
        "   w_der = -(2/total_samples)*np.dot(X_transpose, errors)\n",
        "   b_der = -(2/total_samples)*np.sum(errors)\n",
        "   ```\n",
        "  * find the new weights\n",
        "  ```\n",
        "  w = w - learning_rate*w_der\n",
        "  b = b - learning_rate*b_der\n",
        "  ```\n",
        "  * Find the mean squared errors of the error\n",
        "  ```\n",
        "  cost = np.mean(np.square(errors))\n",
        "  ```"
      ],
      "metadata": {
        "id": "jZlfshCt9sXA"
      }
    },
    {
      "cell_type": "code",
      "source": [
        "def batch_gradient_descent(X, y_true, epochs, learning_rate = 0.01):\n",
        "  num_features = X.shape[1]\n",
        "  total_samples = X.shape[0]\n",
        "  X_transpose = X.T\n",
        "\n",
        "  w = np.ones(shape=(num_features)) # w = [1,1]\n",
        "  b = 0\n",
        "  cost_list = []\n",
        "  epoch_list = []\n",
        "\n",
        "  for i in range (epochs):\n",
        "    y_predicted = np.dot(w, X_transpose) + b\n",
        "    errors = (y_true - y_predicted)\n",
        "\n",
        "    w_der = -(2/total_samples)*np.dot(X_transpose, errors)\n",
        "    b_der = -(2/total_samples)*np.sum(errors)\n",
        "    w = w - learning_rate*w_der\n",
        "    b = b - learning_rate*b_der\n",
        "\n",
        "    cost = np.mean(np.square(errors))\n",
        "    if i%10 == 0:\n",
        "      if not i%50:\n",
        "        print(f\"Epoch = {i}, Cost = {cost}\")\n",
        "      cost_list.append(cost)\n",
        "      epoch_list.append(i)\n",
        "\n",
        "  return w, b, cost, cost_list, epoch_list\n"
      ],
      "metadata": {
        "id": "qDPx_-xc9wbl"
      },
      "execution_count": 17,
      "outputs": []
    },
    {
      "cell_type": "markdown",
      "source": [
        "w.shape = (1,2)\n",
        "\n",
        "X.shape = (20,2), X_transpose.shape = (2,20)\n",
        "\n",
        "np.dot(X_transpose, w).shape = (1,20), y_true.shape = (1,20) ==> errors.shape = (1,20)\n",
        "\n",
        "np.dot( X_transpose, errors).shape = (2,1) ==> assigned to w_transpose\n"
      ],
      "metadata": {
        "id": "u-IbjIS5KqrR"
      }
    },
    {
      "cell_type": "code",
      "source": [
        "weights, bias, cost, cost_list, epoch_list = batch_gradient_descent(x_scaled, y_scaled.reshape(y_scaled.shape[0]), 650)"
      ],
      "metadata": {
        "colab": {
          "base_uri": "https://localhost:8080/"
        },
        "id": "w8JoFC7OKqFi",
        "outputId": "684892de-4d30-42e9-d81d-58e52b065de6"
      },
      "execution_count": 37,
      "outputs": [
        {
          "output_type": "stream",
          "name": "stdout",
          "text": [
            "Epoch = 0, Cost = 0.2768777174681\n",
            "Epoch = 50, Cost = 0.03245122421764872\n",
            "Epoch = 100, Cost = 0.015720331469182485\n",
            "Epoch = 150, Cost = 0.013076793952344979\n",
            "Epoch = 200, Cost = 0.011570105565415722\n",
            "Epoch = 250, Cost = 0.010367745666240432\n",
            "Epoch = 300, Cost = 0.009377471304274599\n",
            "Epoch = 350, Cost = 0.008559203175573597\n",
            "Epoch = 400, Cost = 0.007882169161242129\n",
            "Epoch = 450, Cost = 0.007321219009066901\n",
            "Epoch = 500, Cost = 0.006855698712269262\n",
            "Epoch = 550, Cost = 0.006468640564624793\n",
            "Epoch = 600, Cost = 0.006146104716070052\n"
          ]
        }
      ]
    },
    {
      "cell_type": "code",
      "source": [
        "print(f\"Weights = {weights}\")\n",
        "print(f\"Bias = {bias}\")\n",
        "print(f\"Cost = {cost}\")"
      ],
      "metadata": {
        "colab": {
          "base_uri": "https://localhost:8080/"
        },
        "id": "fXFK7LO9OzvZ",
        "outputId": "8e07a66c-e8c9-420b-f63b-5e2456ec9120"
      },
      "execution_count": 38,
      "outputs": [
        {
          "output_type": "stream",
          "name": "stdout",
          "text": [
            "Weights = [0.68759496 0.64916921]\n",
            "Bias = -0.20951898372793457\n",
            "Cost = 0.005881571762777331\n"
          ]
        }
      ]
    },
    {
      "cell_type": "markdown",
      "source": [
        "10. Plot the graph for cost v/s epoch"
      ],
      "metadata": {
        "id": "0TVF7H8bPQSn"
      }
    },
    {
      "cell_type": "code",
      "source": [
        "plt.xlabel(\"Epochs\")\n",
        "plt.ylabel(\"Cost\")\n",
        "plt.plot(epoch_list, cost_list)\n"
      ],
      "metadata": {
        "colab": {
          "base_uri": "https://localhost:8080/",
          "height": 466
        },
        "id": "kSRZDfNjPetE",
        "outputId": "28a58d42-ba71-4362-87e1-a373e6a5eda2"
      },
      "execution_count": 39,
      "outputs": [
        {
          "output_type": "execute_result",
          "data": {
            "text/plain": [
              "[<matplotlib.lines.Line2D at 0x7d11c1b50ad0>]"
            ]
          },
          "metadata": {},
          "execution_count": 39
        },
        {
          "output_type": "display_data",
          "data": {
            "text/plain": [
              "<Figure size 640x480 with 1 Axes>"
            ],
            "image/png": "[encoded data removed]"
          },
          "metadata": {}
        }
      ]
    },
    {
      "cell_type": "markdown",
      "source": [
        "11. Predict using batch gradient descent.\n",
        "    \n",
        "    def predict(area,bedrooms,w,b):\n",
        "    * Scale the values of area and bedroom using the earlier created MinMaxScaler instance.\n",
        "    * here, w1 = w[0] , w2 = w[1] and bias is b\n",
        "    * equation for price is w1*area + w2*bedrooms + bias\n",
        "    * scaled_X[0] is area, scaled_X[1] is bedrooms\n",
        "    ```\n",
        "    scaled_price = w[0] * scaled_X[0] + w[1] * scaled_X[1] + b\n",
        "    ```\n",
        "    * once we get price prediction we need to to rescal it back to original value and also since it returns 2D array, to get single value we need to do value[0][0]\n",
        "\n"
      ],
      "metadata": {
        "id": "c8eLlwQ2VlbG"
      }
    },
    {
      "cell_type": "code",
      "source": [
        "def predict(area,bedrooms,w,b):\n",
        "    scaled_X = sx.transform([[area, bedrooms]])[0]\n",
        "    scaled_price = w[0] * scaled_X[0] + w[1] * scaled_X[1] + b\n",
        "    return sy.inverse_transform([[scaled_price]])[0][0]\n",
        "\n",
        "print(predict(2600,4,weights,bias))\n",
        "print(predict(1056,2,weights,bias))\n",
        "print(predict(3700,5,weights,bias))"
      ],
      "metadata": {
        "colab": {
          "base_uri": "https://localhost:8080/"
        },
        "id": "7Uso6Sj7WouT",
        "outputId": "df2b8eca-1539-4516-83fe-aaa2efbed920"
      },
      "execution_count": 40,
      "outputs": [
        {
          "output_type": "stream",
          "name": "stdout",
          "text": [
            "127.05903544252351\n",
            "33.81863319875958\n",
            "184.17810028400078\n"
          ]
        },
        {
          "output_type": "stream",
          "name": "stderr",
          "text": [
            "/usr/local/lib/python3.11/dist-packages/sklearn/utils/validation.py:2739: UserWarning: X does not have valid feature names, but MinMaxScaler was fitted with feature names\n",
            "  warnings.warn(\n",
            "/usr/local/lib/python3.11/dist-packages/sklearn/utils/validation.py:2739: UserWarning: X does not have valid feature names, but MinMaxScaler was fitted with feature names\n",
            "  warnings.warn(\n",
            "/usr/local/lib/python3.11/dist-packages/sklearn/utils/validation.py:2739: UserWarning: X does not have valid feature names, but MinMaxScaler was fitted with feature names\n",
            "  warnings.warn(\n"
          ]
        }
      ]
    },
    {
      "cell_type": "markdown",
      "source": [
        "# Stochastic Gradient Descent\n",
        "Stochastic GD will use randomly picked single training sample to calculate error and using this error we backpropage to adjust weights\n"
      ],
      "metadata": {
        "id": "PWqoXsiDX-0E"
      }
    },
    {
      "cell_type": "code",
      "source": [
        "import random\n",
        "\n",
        "def stochastic(X, y_true, epochs, learning_rate = 0.01):\n",
        "\n",
        "    number_of_features = X.shape[1]\n",
        "    w = np.ones(shape=(number_of_features))\n",
        "    b = 0\n",
        "    total_samples = X.shape[0]\n",
        "\n",
        "    cost_list = []\n",
        "    epoch_list = []\n",
        "\n",
        "    for i in range(epochs):\n",
        "        random_index = random.randint(0,total_samples-1)\n",
        "        sample_x = X[random_index]\n",
        "        sample_y = y_true[random_index]\n",
        "\n",
        "        y_predicted = np.dot(w, sample_x.T) + b\n",
        "\n",
        "        w_grad = -(2/total_samples)*(sample_x.T.dot(sample_y-y_predicted))\n",
        "        b_grad = -(2/total_samples)*(sample_y-y_predicted)\n",
        "\n",
        "        w = w - learning_rate * w_grad\n",
        "        b = b - learning_rate * b_grad\n",
        "\n",
        "        cost = np.square(sample_y-y_predicted)\n",
        "\n",
        "        if i%1500==0:\n",
        "            print(f\"Epoch = {i}, Cost = {cost}\")\n",
        "            cost_list.append(cost)\n",
        "            epoch_list.append(i)\n",
        "\n",
        "    return w, b, cost, cost_list, epoch_list\n"
      ],
      "metadata": {
        "id": "dYMEwuMqYO_m"
      },
      "execution_count": 57,
      "outputs": []
    },
    {
      "cell_type": "code",
      "source": [
        "w_sgd, b_sgd, cost_sgd, cost_list_sgd, epoch_list_sgd = stochastic(x_scaled, y_scaled.reshape(y_scaled.shape[0]), 5000)\n",
        "print(f\"Weights = {w_sgd}\")\n",
        "print(f\"Bias = {b_sgd}\")\n",
        "print(f\"Cost = {cost_sgd}\")"
      ],
      "metadata": {
        "colab": {
          "base_uri": "https://localhost:8080/"
        },
        "id": "hQVaDYcrYtTa",
        "outputId": "6ce1a301-5fe9-48d6-e96f-cf144d5aac8f"
      },
      "execution_count": 64,
      "outputs": [
        {
          "output_type": "stream",
          "name": "stdout",
          "text": [
            "Epoch = 0, Cost = 0.4025683709869204\n",
            "Epoch = 1500, Cost = 0.003310522153573819\n",
            "Epoch = 3000, Cost = 0.00046306769678423795\n",
            "Epoch = 4500, Cost = 0.008139063908695196\n",
            "Weights = [0.76557829 0.73339525]\n",
            "Bias = -0.2841308186872998\n",
            "Cost = 0.0057670117815026576\n"
          ]
        }
      ]
    },
    {
      "cell_type": "code",
      "source": [
        "plt.xlabel(\"Epochs\")\n",
        "plt.ylabel(\"Cost\")\n",
        "plt.plot(epoch_list_sgd, cost_list_sgd)"
      ],
      "metadata": {
        "colab": {
          "base_uri": "https://localhost:8080/",
          "height": 466
        },
        "id": "iN-xTy3yZVM7",
        "outputId": "b1378a6a-d748-4525-be83-d1f71b330b19"
      },
      "execution_count": 65,
      "outputs": [
        {
          "output_type": "execute_result",
          "data": {
            "text/plain": [
              "[<matplotlib.lines.Line2D at 0x7d11c1944190>]"
            ]
          },
          "metadata": {},
          "execution_count": 65
        },
        {
          "output_type": "display_data",
          "data": {
            "text/plain": [
              "<Figure size 640x480 with 1 Axes>"
            ],
            "image/png": "[encoded data removed]"
          },
          "metadata": {}
        }
      ]
    },
    {
      "cell_type": "code",
      "source": [
        "print(predict(2600,4,w_sgd,b_sgd))\n",
        "print(predict(1056,2,w_sgd,b_sgd))\n",
        "print(predict(3700,5,w_sgd,b_sgd))"
      ],
      "metadata": {
        "colab": {
          "base_uri": "https://localhost:8080/"
        },
        "id": "oBhEBjJFZdYF",
        "outputId": "7a88c037-3f7b-42e8-fdfa-01397eaa11c5"
      },
      "execution_count": 66,
      "outputs": [
        {
          "output_type": "stream",
          "name": "stdout",
          "text": [
            "132.0487894980374\n",
            "27.518010545236223\n",
            "196.00376742007415\n"
          ]
        },
        {
          "output_type": "stream",
          "name": "stderr",
          "text": [
            "/usr/local/lib/python3.11/dist-packages/sklearn/utils/validation.py:2739: UserWarning: X does not have valid feature names, but MinMaxScaler was fitted with feature names\n",
            "  warnings.warn(\n",
            "/usr/local/lib/python3.11/dist-packages/sklearn/utils/validation.py:2739: UserWarning: X does not have valid feature names, but MinMaxScaler was fitted with feature names\n",
            "  warnings.warn(\n",
            "/usr/local/lib/python3.11/dist-packages/sklearn/utils/validation.py:2739: UserWarning: X does not have valid feature names, but MinMaxScaler was fitted with feature names\n",
            "  warnings.warn(\n"
          ]
        }
      ]
    },
    {
      "cell_type": "markdown",
      "source": [
        "#Mini Batch Gradient Descent\n",
        "Mini-batch uses a small group (batch) of samples in each step.\n",
        "This gives faster convergence and smoother updates.\n",
        "\n",
        "It splits the dataset into small batches (e.g., 16, 32, 64 samples) and updates weights per batch. This gives you speed + stability.\n",
        "\n",
        "Algorithm\n",
        "* Initialize weights w and bias b\n",
        "\n",
        "* For each epoch:\n",
        "\n",
        "  - Shuffle the dataset\n",
        "\n",
        "  - Split X and y into batches of size batch_size\n",
        "\n",
        "  - For each batch:\n",
        "\n",
        "    - Compute predictions\n",
        "\n",
        "    - Calculate errors\n",
        "\n",
        "    - Compute gradients (w_grad, b_grad)\n",
        "\n",
        "    - Update w and b\n",
        "\n",
        "  - compute and store cost"
      ],
      "metadata": {
        "id": "n6kkB7ijbu7h"
      }
    },
    {
      "cell_type": "code",
      "source": [
        "def mini_batch_gradient_descent(X, y_true, epochs, learning_rate=0.01, batch_size=32):\n",
        "    num_features = X.shape[1]\n",
        "    total_samples = X.shape[0]\n",
        "\n",
        "    # Initialize weights and bias\n",
        "    w = np.ones(num_features)\n",
        "    b = 0\n",
        "\n",
        "    cost_list = []\n",
        "    epoch_list = []\n",
        "\n",
        "    for epoch in range(epochs):\n",
        "        indices = np.random.permutation(total_samples)\n",
        "        X = X[indices]\n",
        "        y_true = y_true[indices]\n",
        "\n",
        "        for start in range(0, total_samples, batch_size):\n",
        "            end = start + batch_size\n",
        "            X_batch = X[start:end]\n",
        "            y_batch = y_true[start:end]\n",
        "\n",
        "            y_predicted = np.dot(w, X_batch.T) + b\n",
        "            errors = (y_batch - y_predicted)\n",
        "\n",
        "            # Compute gradients\n",
        "            w_grad = -(2 / X_batch.shape[0]) * np.dot(X_batch.T, errors)\n",
        "            b_grad = -(2 / X_batch.shape[0]) * np.sum(errors)\n",
        "\n",
        "            # Update weights and bias\n",
        "            w -= learning_rate * w_grad\n",
        "            b -= learning_rate * b_grad\n",
        "\n",
        "        # Compute cost after each epoch (on full data)\n",
        "        y_full_pred = np.dot(X, w) + b\n",
        "        full_errors = (y_true - y_full_pred).flatten()\n",
        "        cost = np.mean(np.square(full_errors))\n",
        "\n",
        "        if epoch % 10 == 0:\n",
        "            if not epoch % 500:\n",
        "                print(f\"Epoch = {epoch}, Cost = {cost}\")\n",
        "            cost_list.append(cost)\n",
        "            epoch_list.append(epoch)\n",
        "\n",
        "    return w, b, cost, cost_list, epoch_list\n"
      ],
      "metadata": {
        "id": "VglWlftobunM"
      },
      "execution_count": 72,
      "outputs": []
    },
    {
      "cell_type": "code",
      "source": [
        "w_mini, b_mini, cost_mini, cost_list_mini, epoch_list_mini = mini_batch_gradient_descent(x_scaled, y_scaled.reshape(y_scaled.shape[0]), 5000)\n",
        "print(f\"Weights = {w_mini}\")\n",
        "print(f\"Bias = {b_mini}\")\n",
        "print(f\"Cost = {cost_mini}\")"
      ],
      "metadata": {
        "colab": {
          "base_uri": "https://localhost:8080/"
        },
        "id": "j61-SUJ8c_jP",
        "outputId": "6d7921a4-611d-4256-dba3-cbf2b3937cce"
      },
      "execution_count": 73,
      "outputs": [
        {
          "output_type": "stream",
          "name": "stdout",
          "text": [
            "Epoch = 0, Cost = 0.262766734572546\n",
            "Epoch = 500, Cost = 0.006847239666048386\n",
            "Epoch = 1000, Cost = 0.0048622941758576285\n",
            "Epoch = 1500, Cost = 0.004394865589268953\n",
            "Epoch = 2000, Cost = 0.0041651303492404885\n",
            "Epoch = 2500, Cost = 0.00399057085319397\n",
            "Epoch = 3000, Cost = 0.003842718466428163\n",
            "Epoch = 3500, Cost = 0.0037150574471571094\n",
            "Epoch = 4000, Cost = 0.003604482372263914\n",
            "Epoch = 4500, Cost = 0.0035086575900759873\n",
            "Weights = [0.75542854 0.41583882]\n",
            "Bias = -0.11684836015389076\n",
            "Cost = 0.00342576313997603\n"
          ]
        }
      ]
    },
    {
      "cell_type": "code",
      "source": [
        "plt.xlabel(\"Epochs\")\n",
        "plt.ylabel(\"Cost\")\n",
        "plt.plot(epoch_list_mini, cost_list_mini)"
      ],
      "metadata": {
        "colab": {
          "base_uri": "https://localhost:8080/",
          "height": 466
        },
        "id": "6M3OCkNQe9Ht",
        "outputId": "1bbb67aa-fe83-4a16-9e72-8a8eab94c43f"
      },
      "execution_count": 74,
      "outputs": [
        {
          "output_type": "execute_result",
          "data": {
            "text/plain": [
              "[<matplotlib.lines.Line2D at 0x7d11c1854310>]"
            ]
          },
          "metadata": {},
          "execution_count": 74
        },
        {
          "output_type": "display_data",
          "data": {
            "text/plain": [
              "<Figure size 640x480 with 1 Axes>"
            ],
            "image/png": "[encoded data removed]"
          },
          "metadata": {}
        }
      ]
    },
    {
      "cell_type": "code",
      "source": [
        "print(predict(2600,4,w_mini,b_mini))\n",
        "print(predict(1056,2,w_mini,b_mini))\n",
        "print(predict(3700,5,w_mini,b_mini))"
      ],
      "metadata": {
        "colab": {
          "base_uri": "https://localhost:8080/"
        },
        "id": "bx2CBpwffBhl",
        "outputId": "70c50867-1e41-4b5a-ef99-a13f15b9b142"
      },
      "execution_count": 75,
      "outputs": [
        {
          "output_type": "stream",
          "name": "stdout",
          "text": [
            "121.62885338709971\n",
            "39.26265570352688\n",
            "174.34656455782965\n"
          ]
        },
        {
          "output_type": "stream",
          "name": "stderr",
          "text": [
            "/usr/local/lib/python3.11/dist-packages/sklearn/utils/validation.py:2739: UserWarning: X does not have valid feature names, but MinMaxScaler was fitted with feature names\n",
            "  warnings.warn(\n",
            "/usr/local/lib/python3.11/dist-packages/sklearn/utils/validation.py:2739: UserWarning: X does not have valid feature names, but MinMaxScaler was fitted with feature names\n",
            "  warnings.warn(\n",
            "/usr/local/lib/python3.11/dist-packages/sklearn/utils/validation.py:2739: UserWarning: X does not have valid feature names, but MinMaxScaler was fitted with feature names\n",
            "  warnings.warn(\n"
          ]
        }
      ]
    }
  ]
}